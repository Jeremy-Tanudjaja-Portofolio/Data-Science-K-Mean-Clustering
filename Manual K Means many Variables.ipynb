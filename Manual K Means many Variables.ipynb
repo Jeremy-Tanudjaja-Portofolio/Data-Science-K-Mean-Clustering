{
 "cells": [
  {
   "cell_type": "code",
   "execution_count": 6,
   "id": "74593fbf",
   "metadata": {},
   "outputs": [],
   "source": [
    "import numpy as np\n",
    "import pandas as pd\n",
    "import matplotlib.pyplot as plt\n",
    "import random as rand"
   ]
  },
  {
   "cell_type": "markdown",
   "id": "6c0b609e",
   "metadata": {},
   "source": [
    "# Clustering Exercise 3 "
   ]
  },
  {
   "cell_type": "markdown",
   "id": "ff4c3c12",
   "metadata": {},
   "source": [
    "## Data Preprocessing "
   ]
  },
  {
   "cell_type": "code",
   "execution_count": 7,
   "id": "1730a5c8",
   "metadata": {},
   "outputs": [],
   "source": [
    "marks_data = pd.read_csv(\"Math_English_marks.csv\", index_col = 0)"
   ]
  },
  {
   "cell_type": "code",
   "execution_count": 8,
   "id": "5c3042f5",
   "metadata": {},
   "outputs": [
    {
     "data": {
      "text/plain": [
       "Index(['Math', 'English'], dtype='object')"
      ]
     },
     "execution_count": 8,
     "metadata": {},
     "output_type": "execute_result"
    }
   ],
   "source": [
    "features = (marks_data.columns[:])\n",
    "features"
   ]
  },
  {
   "cell_type": "code",
   "execution_count": 9,
   "id": "ff29ae93",
   "metadata": {},
   "outputs": [],
   "source": [
    "# Drop any missing value from the dataset\n",
    "marks_data_clean = marks_data.dropna()"
   ]
  },
  {
   "cell_type": "code",
   "execution_count": 10,
   "id": "25cafb76",
   "metadata": {},
   "outputs": [
    {
     "data": {
      "text/html": [
       "<div>\n",
       "<style scoped>\n",
       "    .dataframe tbody tr th:only-of-type {\n",
       "        vertical-align: middle;\n",
       "    }\n",
       "\n",
       "    .dataframe tbody tr th {\n",
       "        vertical-align: top;\n",
       "    }\n",
       "\n",
       "    .dataframe thead th {\n",
       "        text-align: right;\n",
       "    }\n",
       "</style>\n",
       "<table border=\"1\" class=\"dataframe\">\n",
       "  <thead>\n",
       "    <tr style=\"text-align: right;\">\n",
       "      <th></th>\n",
       "      <th>Math</th>\n",
       "      <th>English</th>\n",
       "    </tr>\n",
       "  </thead>\n",
       "  <tbody>\n",
       "    <tr>\n",
       "      <th>0</th>\n",
       "      <td>4</td>\n",
       "      <td>9</td>\n",
       "    </tr>\n",
       "    <tr>\n",
       "      <th>1</th>\n",
       "      <td>8</td>\n",
       "      <td>4</td>\n",
       "    </tr>\n",
       "    <tr>\n",
       "      <th>2</th>\n",
       "      <td>3</td>\n",
       "      <td>5</td>\n",
       "    </tr>\n",
       "  </tbody>\n",
       "</table>\n",
       "</div>"
      ],
      "text/plain": [
       "   Math  English\n",
       "0     4        9\n",
       "1     8        4\n",
       "2     3        5"
      ]
     },
     "execution_count": 10,
     "metadata": {},
     "output_type": "execute_result"
    }
   ],
   "source": [
    "centroids = {\"Math\":[4,8,3],\"English\":[9,4,5]}\n",
    "centroids = pd.DataFrame(centroids)\n",
    "centroids"
   ]
  },
  {
   "cell_type": "code",
   "execution_count": 11,
   "id": "26543d55",
   "metadata": {},
   "outputs": [
    {
     "data": {
      "text/html": [
       "<div>\n",
       "<style scoped>\n",
       "    .dataframe tbody tr th:only-of-type {\n",
       "        vertical-align: middle;\n",
       "    }\n",
       "\n",
       "    .dataframe tbody tr th {\n",
       "        vertical-align: top;\n",
       "    }\n",
       "\n",
       "    .dataframe thead th {\n",
       "        text-align: right;\n",
       "    }\n",
       "</style>\n",
       "<table border=\"1\" class=\"dataframe\">\n",
       "  <thead>\n",
       "    <tr style=\"text-align: right;\">\n",
       "      <th></th>\n",
       "      <th>Math</th>\n",
       "      <th>English</th>\n",
       "    </tr>\n",
       "    <tr>\n",
       "      <th>No</th>\n",
       "      <th></th>\n",
       "      <th></th>\n",
       "    </tr>\n",
       "  </thead>\n",
       "  <tbody>\n",
       "    <tr>\n",
       "      <th>A</th>\n",
       "      <td>4</td>\n",
       "      <td>9</td>\n",
       "    </tr>\n",
       "    <tr>\n",
       "      <th>B</th>\n",
       "      <td>4</td>\n",
       "      <td>5</td>\n",
       "    </tr>\n",
       "    <tr>\n",
       "      <th>C</th>\n",
       "      <td>8</td>\n",
       "      <td>4</td>\n",
       "    </tr>\n",
       "    <tr>\n",
       "      <th>D</th>\n",
       "      <td>5</td>\n",
       "      <td>8</td>\n",
       "    </tr>\n",
       "    <tr>\n",
       "      <th>E</th>\n",
       "      <td>7</td>\n",
       "      <td>5</td>\n",
       "    </tr>\n",
       "    <tr>\n",
       "      <th>F</th>\n",
       "      <td>3</td>\n",
       "      <td>5</td>\n",
       "    </tr>\n",
       "    <tr>\n",
       "      <th>G</th>\n",
       "      <td>10</td>\n",
       "      <td>5</td>\n",
       "    </tr>\n",
       "    <tr>\n",
       "      <th>H</th>\n",
       "      <td>1</td>\n",
       "      <td>7</td>\n",
       "    </tr>\n",
       "  </tbody>\n",
       "</table>\n",
       "</div>"
      ],
      "text/plain": [
       "    Math  English\n",
       "No               \n",
       "A      4        9\n",
       "B      4        5\n",
       "C      8        4\n",
       "D      5        8\n",
       "E      7        5\n",
       "F      3        5\n",
       "G     10        5\n",
       "H      1        7"
      ]
     },
     "execution_count": 11,
     "metadata": {},
     "output_type": "execute_result"
    }
   ],
   "source": [
    "marks_data_clean"
   ]
  },
  {
   "cell_type": "markdown",
   "id": "db7f0cba",
   "metadata": {},
   "source": [
    "## Random Centroid Generator"
   ]
  },
  {
   "cell_type": "code",
   "execution_count": 6,
   "id": "c49f8fb3",
   "metadata": {},
   "outputs": [],
   "source": [
    "# random centroids\n",
    "def random_centroids(data, k, features):\n",
    "    centroids=[]\n",
    "    for i in range(k):\n",
    "        random_centroid_feature = {}\n",
    "        for feature in features:\n",
    "            centroid = rand.choice(data[f'{feature}'])\n",
    "            random_centroid_feature[feature]=centroid\n",
    "        centroids.append(random_centroid_feature)\n",
    "    print(f\"Generated {k} centroids for {len(features)} features\")\n",
    "    return pd.DataFrame(centroids)"
   ]
  },
  {
   "cell_type": "code",
   "execution_count": 7,
   "id": "de0b9fcf",
   "metadata": {},
   "outputs": [
    {
     "name": "stdout",
     "output_type": "stream",
     "text": [
      "Generated 4 centroids for 2 features\n"
     ]
    },
    {
     "data": {
      "text/html": [
       "<div>\n",
       "<style scoped>\n",
       "    .dataframe tbody tr th:only-of-type {\n",
       "        vertical-align: middle;\n",
       "    }\n",
       "\n",
       "    .dataframe tbody tr th {\n",
       "        vertical-align: top;\n",
       "    }\n",
       "\n",
       "    .dataframe thead th {\n",
       "        text-align: right;\n",
       "    }\n",
       "</style>\n",
       "<table border=\"1\" class=\"dataframe\">\n",
       "  <thead>\n",
       "    <tr style=\"text-align: right;\">\n",
       "      <th></th>\n",
       "      <th>Math</th>\n",
       "      <th>English</th>\n",
       "    </tr>\n",
       "  </thead>\n",
       "  <tbody>\n",
       "    <tr>\n",
       "      <th>0</th>\n",
       "      <td>4</td>\n",
       "      <td>9</td>\n",
       "    </tr>\n",
       "    <tr>\n",
       "      <th>1</th>\n",
       "      <td>7</td>\n",
       "      <td>5</td>\n",
       "    </tr>\n",
       "    <tr>\n",
       "      <th>2</th>\n",
       "      <td>1</td>\n",
       "      <td>4</td>\n",
       "    </tr>\n",
       "    <tr>\n",
       "      <th>3</th>\n",
       "      <td>3</td>\n",
       "      <td>5</td>\n",
       "    </tr>\n",
       "  </tbody>\n",
       "</table>\n",
       "</div>"
      ],
      "text/plain": [
       "   Math  English\n",
       "0     4        9\n",
       "1     7        5\n",
       "2     1        4\n",
       "3     3        5"
      ]
     },
     "execution_count": 7,
     "metadata": {},
     "output_type": "execute_result"
    }
   ],
   "source": [
    "random_centroids(marks_data_clean, 4, features)"
   ]
  },
  {
   "cell_type": "markdown",
   "id": "9b262761",
   "metadata": {},
   "source": [
    "====================================================================================================================="
   ]
  },
  {
   "cell_type": "markdown",
   "id": "e0b35063",
   "metadata": {},
   "source": [
    "## Manhattan Distance Function"
   ]
  },
  {
   "cell_type": "code",
   "execution_count": 12,
   "id": "6fdfe550",
   "metadata": {},
   "outputs": [],
   "source": [
    "def get_distance(data, centroids):\n",
    "    \"\"\"This Function calculates the distance for each cluster it accepts a dataframe of datas, and a dataframe of clusters\"\"\"\n",
    "    # Get All the Index to make it into the rows\n",
    "    row = data.index\n",
    "    \n",
    "    # Get all the rows in the centroid we are going to iterate through the centroid row for each row data\n",
    "    centroid_row = centroids.shape[0]\n",
    "    \n",
    "    # a dictionary to store the result\n",
    "    dict_data = {}\n",
    "    \n",
    "    # This loop will iterate through all the rows in the dataframe\n",
    "    for i in range(0, len(row)):\n",
    "        \n",
    "        # an array/list to capture each result of the cluster\n",
    "        clusters_value = []\n",
    "        \n",
    "        # This loop will iterate through all the centroid\n",
    "        for j in range(0, centroid_row):\n",
    "            distance = 0\n",
    "            \n",
    "            # This Loop will iterate through all the column that the centroid has then\n",
    "            # its going to get the absolute value of the row of data - each centroid data for each corresponding\n",
    "            # column\n",
    "            for centroid in centroids:\n",
    "                distance = np.abs(data[centroid].iloc[i]-centroids[centroid].iloc[j]) + distance\n",
    "            # stores the sum data of the centroid column into the list\n",
    "            clusters_value.append(distance)\n",
    "            # print(clusters_value)\n",
    "        # stores the list of centroid value into the dictionary\n",
    "        dict_data[row[i]] = clusters_value\n",
    "    dataframe = pd.DataFrame(dict_data).T\n",
    "    print(dataframe)\n",
    "    # return the closest value to the centroid\n",
    "    return dataframe.idxmin(axis = 1)\n",
    "         \n",
    "    "
   ]
  },
  {
   "cell_type": "code",
   "execution_count": 13,
   "id": "8e62b4c7",
   "metadata": {},
   "outputs": [
    {
     "name": "stdout",
     "output_type": "stream",
     "text": [
      "    0   1  2\n",
      "A   0   9  5\n",
      "B   4   5  1\n",
      "C   9   0  6\n",
      "D   2   7  5\n",
      "E   7   2  4\n",
      "F   5   6  0\n",
      "G  10   3  7\n",
      "H   5  10  4\n"
     ]
    },
    {
     "data": {
      "text/plain": [
       "A    0\n",
       "B    2\n",
       "C    1\n",
       "D    0\n",
       "E    1\n",
       "F    2\n",
       "G    1\n",
       "H    2\n",
       "dtype: int64"
      ]
     },
     "execution_count": 13,
     "metadata": {},
     "output_type": "execute_result"
    }
   ],
   "source": [
    "get_distance(marks_data_clean, centroids)"
   ]
  },
  {
   "cell_type": "code",
   "execution_count": 18,
   "id": "d756c798",
   "metadata": {},
   "outputs": [],
   "source": [
    "def manhattan_distance_easy(data, centroids):\n",
    "    \"\"\"This will use lambda function to make it easier\"\"\"\n",
    "    centroids = centroids.T # we need to transpose the data first to the correct form\n",
    "    distance = centroids.apply(lambda x: np.abs(data - x).sum(axis = 1))\n",
    "    print(distance)\n",
    "    return distance.idxmin(axis = 1)"
   ]
  },
  {
   "cell_type": "code",
   "execution_count": 19,
   "id": "f30906ee",
   "metadata": {},
   "outputs": [
    {
     "name": "stdout",
     "output_type": "stream",
     "text": [
      "     0   1  2\n",
      "No           \n",
      "A    0   9  5\n",
      "B    4   5  1\n",
      "C    9   0  6\n",
      "D    2   7  5\n",
      "E    7   2  4\n",
      "F    5   6  0\n",
      "G   10   3  7\n",
      "H    5  10  4\n"
     ]
    },
    {
     "data": {
      "text/plain": [
       "No\n",
       "A    0\n",
       "B    2\n",
       "C    1\n",
       "D    0\n",
       "E    1\n",
       "F    2\n",
       "G    1\n",
       "H    2\n",
       "dtype: int64"
      ]
     },
     "execution_count": 19,
     "metadata": {},
     "output_type": "execute_result"
    }
   ],
   "source": [
    "manhattan_distance_easy(marks_data_clean, centroids)"
   ]
  },
  {
   "cell_type": "code",
   "execution_count": 56,
   "id": "8e760a42",
   "metadata": {},
   "outputs": [],
   "source": [
    "# marks_data_clean.index\n",
    "# marks_data_clean\n",
    "# centroids"
   ]
  },
  {
   "cell_type": "code",
   "execution_count": 20,
   "id": "930806ea",
   "metadata": {},
   "outputs": [
    {
     "name": "stdout",
     "output_type": "stream",
     "text": [
      "    0   1  2\n",
      "A   0   9  5\n",
      "B   4   5  1\n",
      "C   9   0  6\n",
      "D   2   7  5\n",
      "E   7   2  4\n",
      "F   5   6  0\n",
      "G  10   3  7\n",
      "H   5  10  4\n"
     ]
    }
   ],
   "source": [
    "# To Where Does our data get into the cluster\n",
    "labels = get_distance(marks_data_clean, centroids)"
   ]
  },
  {
   "cell_type": "code",
   "execution_count": 21,
   "id": "9a3e8b57",
   "metadata": {},
   "outputs": [
    {
     "data": {
      "text/plain": [
       "2    3\n",
       "1    3\n",
       "0    2\n",
       "dtype: int64"
      ]
     },
     "execution_count": 21,
     "metadata": {},
     "output_type": "execute_result"
    }
   ],
   "source": [
    "# how many data per cluster\n",
    "labels.value_counts()"
   ]
  },
  {
   "cell_type": "markdown",
   "id": "9a36101a",
   "metadata": {},
   "source": [
    "====================================================================================================================="
   ]
  },
  {
   "cell_type": "markdown",
   "id": "bcc65e63",
   "metadata": {},
   "source": [
    "# Update the Distance for each Cluster"
   ]
  },
  {
   "cell_type": "code",
   "execution_count": 22,
   "id": "e1753d80",
   "metadata": {},
   "outputs": [],
   "source": [
    "def easy_update_centroid(labels, data):\n",
    "    # split the data by our labels and the apply the log mean (if the number is big log x will slim it down thus giving us\n",
    "    # a better performance)  the apply methods means, we will apply the np.exp .... to each of our data group\n",
    "    result = data.groupby(labels).apply(lambda x: np.exp(np.log(x).mean()))\n",
    "    print(result.T) # the original result will gives us the cluster as a row\n",
    "    return result"
   ]
  },
  {
   "cell_type": "code",
   "execution_count": 23,
   "id": "9ce253cb",
   "metadata": {},
   "outputs": [
    {
     "name": "stdout",
     "output_type": "stream",
     "text": [
      "                0         1         2\n",
      "Math     4.472136  8.242571  2.289428\n",
      "English  8.485281  4.641589  5.593445\n"
     ]
    },
    {
     "data": {
      "text/html": [
       "<div>\n",
       "<style scoped>\n",
       "    .dataframe tbody tr th:only-of-type {\n",
       "        vertical-align: middle;\n",
       "    }\n",
       "\n",
       "    .dataframe tbody tr th {\n",
       "        vertical-align: top;\n",
       "    }\n",
       "\n",
       "    .dataframe thead th {\n",
       "        text-align: right;\n",
       "    }\n",
       "</style>\n",
       "<table border=\"1\" class=\"dataframe\">\n",
       "  <thead>\n",
       "    <tr style=\"text-align: right;\">\n",
       "      <th></th>\n",
       "      <th>Math</th>\n",
       "      <th>English</th>\n",
       "    </tr>\n",
       "  </thead>\n",
       "  <tbody>\n",
       "    <tr>\n",
       "      <th>0</th>\n",
       "      <td>4.472136</td>\n",
       "      <td>8.485281</td>\n",
       "    </tr>\n",
       "    <tr>\n",
       "      <th>1</th>\n",
       "      <td>8.242571</td>\n",
       "      <td>4.641589</td>\n",
       "    </tr>\n",
       "    <tr>\n",
       "      <th>2</th>\n",
       "      <td>2.289428</td>\n",
       "      <td>5.593445</td>\n",
       "    </tr>\n",
       "  </tbody>\n",
       "</table>\n",
       "</div>"
      ],
      "text/plain": [
       "       Math   English\n",
       "0  4.472136  8.485281\n",
       "1  8.242571  4.641589\n",
       "2  2.289428  5.593445"
      ]
     },
     "execution_count": 23,
     "metadata": {},
     "output_type": "execute_result"
    }
   ],
   "source": [
    "easy_update_centroid(labels, marks_data_clean)"
   ]
  },
  {
   "cell_type": "code",
   "execution_count": 24,
   "id": "00b0dc04",
   "metadata": {},
   "outputs": [],
   "source": [
    "def update_centroid(labels, data):\n",
    "    # cari mean dari tiap data yang telah di group\n",
    "    grouped_data = data.groupby(labels).mean()\n",
    "    #for key, item in grouped_data:\n",
    "        #print(grouped_data.get_group(key), \"\\n\\n\")\n",
    "    return grouped_data"
   ]
  },
  {
   "cell_type": "code",
   "execution_count": 25,
   "id": "0a182e66",
   "metadata": {},
   "outputs": [
    {
     "data": {
      "text/html": [
       "<div>\n",
       "<style scoped>\n",
       "    .dataframe tbody tr th:only-of-type {\n",
       "        vertical-align: middle;\n",
       "    }\n",
       "\n",
       "    .dataframe tbody tr th {\n",
       "        vertical-align: top;\n",
       "    }\n",
       "\n",
       "    .dataframe thead th {\n",
       "        text-align: right;\n",
       "    }\n",
       "</style>\n",
       "<table border=\"1\" class=\"dataframe\">\n",
       "  <thead>\n",
       "    <tr style=\"text-align: right;\">\n",
       "      <th></th>\n",
       "      <th>Math</th>\n",
       "      <th>English</th>\n",
       "    </tr>\n",
       "  </thead>\n",
       "  <tbody>\n",
       "    <tr>\n",
       "      <th>0</th>\n",
       "      <td>4.500000</td>\n",
       "      <td>8.500000</td>\n",
       "    </tr>\n",
       "    <tr>\n",
       "      <th>1</th>\n",
       "      <td>8.333333</td>\n",
       "      <td>4.666667</td>\n",
       "    </tr>\n",
       "    <tr>\n",
       "      <th>2</th>\n",
       "      <td>2.666667</td>\n",
       "      <td>5.666667</td>\n",
       "    </tr>\n",
       "  </tbody>\n",
       "</table>\n",
       "</div>"
      ],
      "text/plain": [
       "       Math   English\n",
       "0  4.500000  8.500000\n",
       "1  8.333333  4.666667\n",
       "2  2.666667  5.666667"
      ]
     },
     "execution_count": 25,
     "metadata": {},
     "output_type": "execute_result"
    }
   ],
   "source": [
    "update_centroid(labels, marks_data_clean)"
   ]
  },
  {
   "cell_type": "markdown",
   "id": "1c38461d",
   "metadata": {},
   "source": [
    "====================================================================================================================="
   ]
  },
  {
   "cell_type": "markdown",
   "id": "29383474",
   "metadata": {},
   "source": [
    "# Visualize the Clustering Algorithm"
   ]
  },
  {
   "cell_type": "code",
   "execution_count": 98,
   "id": "74b84e52",
   "metadata": {},
   "outputs": [],
   "source": [
    "# imports\n",
    "from sklearn.decomposition import PCA # to help visualize N dimension data, PCA summarise our variabels\n",
    "from IPython.display import clear_output # this will clear our graph so we can have a graph that's continously updating"
   ]
  },
  {
   "cell_type": "code",
   "execution_count": 131,
   "id": "2b222bee",
   "metadata": {},
   "outputs": [],
   "source": [
    "def plot_clusters(data, labels, centroid, iteration):\n",
    "    pca = PCA(n_components = 2) # this will turn our data into two columns\n",
    "    data_2d = pca.fit_transform(data)\n",
    "    centroids_2d = pca.transform(centroids.T)\n",
    "    clear_output(wait=True) # clear our output\n",
    "    plt.title(f'{iteration}')\n",
    "    plt.scatter(x=data_2d[:,0], y=data_2d[:1], c=labels)\n",
    "    plt.scatter(x=centroids_2d[:,0], y=centroids_2d[:,1])\n",
    "    plt.show()"
   ]
  },
  {
   "cell_type": "markdown",
   "id": "e69b8362",
   "metadata": {},
   "source": [
    "====================================================================================================================="
   ]
  },
  {
   "cell_type": "markdown",
   "id": "07cfdf30",
   "metadata": {},
   "source": [
    "# K-Means Main Loop"
   ]
  },
  {
   "cell_type": "code",
   "execution_count": 26,
   "id": "f6671c98",
   "metadata": {},
   "outputs": [],
   "source": [
    "marks_data = pd.read_csv(\"Math_English_marks.csv\", index_col = 0)\n",
    "features = (marks_data.columns[:])\n",
    "centroids = {\"Math\":[4,8,3],\"English\":[9,4,5]}\n",
    "centroids = pd.DataFrame(centroids)\n",
    "marks_data_clean = marks_data.dropna()"
   ]
  },
  {
   "cell_type": "code",
   "execution_count": 27,
   "id": "5095d784",
   "metadata": {},
   "outputs": [
    {
     "name": "stdout",
     "output_type": "stream",
     "text": [
      "Iteration Count: 1\n",
      "    0   1  2\n",
      "A   0   9  5\n",
      "B   4   5  1\n",
      "C   9   0  6\n",
      "D   2   7  5\n",
      "E   7   2  4\n",
      "F   5   6  0\n",
      "G  10   3  7\n",
      "H   5  10  4\n",
      "A    0\n",
      "B    2\n",
      "C    1\n",
      "D    0\n",
      "E    1\n",
      "F    2\n",
      "G    1\n",
      "H    2\n",
      "dtype: int64\n",
      "       Math   English\n",
      "0  4.500000  8.500000\n",
      "1  8.333333  4.666667\n",
      "2  2.666667  5.666667\n",
      "\n",
      "\n",
      "Iteration Count: 2\n",
      "     0         1         2\n",
      "A  1.0  8.666667  4.666667\n",
      "B  4.0  4.666667  2.000000\n",
      "C  8.0  1.000000  7.000000\n",
      "D  1.0  6.666667  4.666667\n",
      "E  6.0  1.666667  5.000000\n",
      "F  5.0  5.666667  1.000000\n",
      "G  9.0  2.000000  8.000000\n",
      "H  5.0  9.666667  3.000000\n",
      "A    0\n",
      "B    2\n",
      "C    1\n",
      "D    0\n",
      "E    1\n",
      "F    2\n",
      "G    1\n",
      "H    2\n",
      "dtype: int64\n",
      "       Math   English\n",
      "0  4.500000  8.500000\n",
      "1  8.333333  4.666667\n",
      "2  2.666667  5.666667\n",
      "\n",
      "\n",
      "\n",
      "\n"
     ]
    },
    {
     "data": {
      "text/plain": [
       "A    0\n",
       "B    2\n",
       "C    1\n",
       "D    0\n",
       "E    1\n",
       "F    2\n",
       "G    1\n",
       "H    2\n",
       "dtype: int64"
      ]
     },
     "execution_count": 27,
     "metadata": {},
     "output_type": "execute_result"
    }
   ],
   "source": [
    "max_iteration = 8\n",
    "iteration = 1\n",
    "old_centroid = pd.DataFrame()\n",
    "# stop the loop if our iteration has reached its maximum value or if it the centroid has stabilized \n",
    "\n",
    "while iteration < max_iteration and not centroids.equals(old_centroid):\n",
    "    print(f\"Iteration Count: {iteration}\")\n",
    "    old_centroid = centroids\n",
    "    labels = get_distance(marks_data_clean, centroids)\n",
    "    centroids = update_centroid(labels, marks_data_clean)\n",
    "    print(labels)\n",
    "    print(centroids)\n",
    "    # plot_clusters(marks_data_clean, labels, centroids, iteration)\n",
    "    iteration = iteration + 1\n",
    "    print(\"\\n\")\n",
    "print(\"\\n\")\n",
    "labels"
   ]
  },
  {
   "cell_type": "code",
   "execution_count": 33,
   "id": "758352fe",
   "metadata": {},
   "outputs": [
    {
     "name": "stdout",
     "output_type": "stream",
     "text": [
      "Cluster 0\n",
      "Cluster Member:\n",
      "['A', 'D']\n",
      "\n",
      "\n",
      "Cluster 2\n",
      "Cluster Member:\n",
      "['B', 'F', 'H']\n",
      "\n",
      "\n",
      "Cluster 1\n",
      "Cluster Member:\n",
      "['C', 'E', 'G']\n",
      "\n",
      "\n"
     ]
    }
   ],
   "source": [
    "# print out each members of each cluster\n",
    "for i in labels.unique():\n",
    "    print(f\"Cluster {i}\")\n",
    "    print(f\"Cluster Member:\")\n",
    "    print(list(marks_data_clean[labels == i].T))\n",
    "    print(\"\\n\")"
   ]
  },
  {
   "cell_type": "code",
   "execution_count": null,
   "id": "3a1f9ed2",
   "metadata": {},
   "outputs": [],
   "source": []
  }
 ],
 "metadata": {
  "kernelspec": {
   "display_name": "Python 3 (ipykernel)",
   "language": "python",
   "name": "python3"
  },
  "language_info": {
   "codemirror_mode": {
    "name": "ipython",
    "version": 3
   },
   "file_extension": ".py",
   "mimetype": "text/x-python",
   "name": "python",
   "nbconvert_exporter": "python",
   "pygments_lexer": "ipython3",
   "version": "3.10.9"
  }
 },
 "nbformat": 4,
 "nbformat_minor": 5
}
